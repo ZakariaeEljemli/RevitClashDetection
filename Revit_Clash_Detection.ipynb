{
  "nbformat": 4,
  "nbformat_minor": 0,
  "metadata": {
    "colab": {
      "name": "Revit Clash Detection.ipynb",
      "provenance": []
    },
    "kernelspec": {
      "name": "python3",
      "display_name": "Python 3"
    },
    "language_info": {
      "name": "python"
    }
  },
  "cells": [
    {
      "cell_type": "code",
      "execution_count": 1,
      "metadata": {
        "id": "app5YeqX5hDX"
      },
      "outputs": [],
      "source": [
        "import codecs"
      ]
    },
    {
      "cell_type": "code",
      "source": [
        "from google.colab import files\n",
        "uploaded = files.upload()"
      ],
      "metadata": {
        "id": "SZhCwZqM-xjt",
        "colab": {
          "resources": {
            "http://localhost:8080/nbextensions/google.colab/files.js": {
              "data": "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",
              "ok": true,
              "headers": [
                [
                  "content-type",
                  "application/javascript"
                ]
              ],
              "status": 200,
              "status_text": ""
            }
          },
          "base_uri": "https://localhost:8080/",
          "height": 74
        },
        "outputId": "9f90abcb-c979-4f77-ce6f-053bb8110723"
      },
      "execution_count": 2,
      "outputs": [
        {
          "output_type": "display_data",
          "data": {
            "text/html": [
              "\n",
              "     <input type=\"file\" id=\"files-996c414c-f8ca-4f07-8f26-b76dbe231db4\" name=\"files[]\" multiple disabled\n",
              "        style=\"border:none\" />\n",
              "     <output id=\"result-996c414c-f8ca-4f07-8f26-b76dbe231db4\">\n",
              "      Upload widget is only available when the cell has been executed in the\n",
              "      current browser session. Please rerun this cell to enable.\n",
              "      </output>\n",
              "      <script src=\"/nbextensions/google.colab/files.js\"></script> "
            ],
            "text/plain": [
              "<IPython.core.display.HTML object>"
            ]
          },
          "metadata": {}
        },
        {
          "output_type": "stream",
          "name": "stdout",
          "text": [
            "Saving Clashs entre plomberie et ossature.html to Clashs entre plomberie et ossature.html\n"
          ]
        }
      ]
    },
    {
      "cell_type": "code",
      "source": [
        "import IPython\n",
        "from google.colab import drive\n",
        "drive.mount('/drive')\n",
        "IPython.display.HTML(filename='/drive/My Drive/Colab Notebooks/Clashs entre plomberie et ossature.html')"
      ],
      "metadata": {
        "id": "BGeEsCk7-APv",
        "colab": {
          "base_uri": "https://localhost:8080/",
          "height": 778
        },
        "outputId": "9cdbb4c3-df0f-400a-8d4a-d43fa6f4b258"
      },
      "execution_count": 3,
      "outputs": [
        {
          "output_type": "stream",
          "name": "stdout",
          "text": [
            "Mounted at /drive\n"
          ]
        },
        {
          "output_type": "execute_result",
          "data": {
            "text/html": [
              "﻿<html><p><center><h1>  Interference Report  </h1></center><p>\n",
              "<b>  Interference Report Project File:  </b>  BIM 360://Venansault/Vestack-MAQUETTE-MEP Venansault.rvt  <br>  <b>  Created:  </b>  jeudi 9 décembre 2021 14:46:29  <br>  <b>  Last Update:  </b>    <br>\n",
              "<p><table border=on>  <tr>  <td></td>  <td ALIGN=\"center\">A</td>  <td ALIGN=\"center\">B</td>  </tr>\n",
              "<tr>  <td>  1  </td>  <td>  Pipes : Pipe Types : Cuivre Frigo Norme EN 12735-1 : id 15581153  </td>  <td>  Venansault--Vestack-MAQUETTE-PROD V2.rvt : Structural Framing : M_WF Bridging : LMBR 45x145 - Mark 1015 : id 4157933  </td>  </tr>\n",
              "<tr>  <td>  2  </td>  <td>  Pipes : Pipe Types : Cuivre Frigo Norme EN 12735-1 : id 15581514  </td>  <td>  Venansault--Vestack-MAQUETTE-PROD V2.rvt : Structural Framing : M_WF Bridging : LMBR 45x145 - Mark 1015 : id 4157933  </td>  </tr>\n",
              "<tr>  <td>  3  </td>  <td>  Pipes : Pipe Types : PVC Sanitaire EN 1329-1 : id 16088130  </td>  <td>  Venansault--Vestack-MAQUETTE-PROD V2.rvt : Structural Framing : M_WF Joist : LMBR 75x200 - Mark 2487 : id 4416185  </td>  </tr>\n",
              "<tr>  <td>  4  </td>  <td>  Pipes : Pipe Types : PER : id 15954799  </td>  <td>  Venansault--Vestack-MAQUETTE-PROD V2.rvt : Structural Framing : M_WF Joist : LMBR 75x200 - Mark 2499 : id 4416209  </td>  </tr>\n",
              "<tr>  <td>  5  </td>  <td>  Pipes : Pipe Types : PVC Sanitaire EN 1329-1 : id 16088130  </td>  <td>  Venansault--Vestack-MAQUETTE-PROD V2.rvt : Structural Framing : M_WF Joist : LMBR 38x38 - Mark 4110 : id 4629796  </td>  </tr>\n",
              "<tr>  <td>  6  </td>  <td>  Pipes : Pipe Types : PER : id 15954799  </td>  <td>  Venansault--Vestack-MAQUETTE-PROD V2.rvt : Structural Framing : M_WF Joist : LMBR 38x38 - Mark 4159 : id 4629894  </td>  </tr>\n",
              "<tr>  <td>  7  </td>  <td>  Pipe Fittings : Coude Multicouche Generique 90 : Coude Multicouche Generique 90 : id 15880749  </td>  <td>  Venansault--Vestack-MAQUETTE-PROD V2.rvt : Structural Framing : M_WF Metal Plate : Metal Plate 28x48 - Mark 3201 : id 4691384  </td>  </tr>\n",
              "<tr>  <td>  8  </td>  <td>  Pipes : Pipe Types : PER : id 15880772  </td>  <td>  Venansault--Vestack-MAQUETTE-PROD V2.rvt : Structural Framing : M_WF Metal Stud : Metal Stud 56x48 - Mark 3205 : id 4691391  </td>  </tr>\n",
              "<tr>  <td>  9  </td>  <td>  Pipe Fittings : Coude Multicouche Generique 90 : Coude Multicouche Generique 90 : id 15987800  </td>  <td>  Venansault--Vestack-MAQUETTE-PROD V2.rvt : Structural Framing : M_WF Metal Stud : Metal Stud 56x48 - Mark 3205 : id 4691391  </td>  </tr>\n",
              "<tr>  <td>  10  </td>  <td>  Pipe Fittings : Coude Multicouche Generique 90 : Coude Multicouche Generique 90 : id 16011834  </td>  <td>  Venansault--Vestack-MAQUETTE-PROD V2.rvt : Structural Framing : M_WF Metal Stud : Metal Stud 56x48 - Mark 3205 : id 4691391  </td>  </tr>\n",
              "<tr>  <td>  11  </td>  <td>  Pipes : Pipe Types : PER : id 15760321  </td>  <td>  Venansault--Vestack-MAQUETTE-PROD V2.rvt : Structural Framing : M_WF Metal Stud : Metal Stud 28x48 - Mark 3222 : id 4691548  </td>  </tr>\n",
              "<tr>  <td>  12  </td>  <td>  Pipe Fittings : Coude Multicouche Generique 90 : Coude Multicouche Generique 90 : id 15803554  </td>  <td>  Venansault--Vestack-MAQUETTE-PROD V2.rvt : Structural Framing : M_WF Metal Stud : Metal Stud 28x48 - Mark 3222 : id 4691548  </td>  </tr>\n",
              "<tr>  <td>  13  </td>  <td>  Pipe Fittings : Coude Multicouche Generique 90 : Coude Multicouche Generique 90 : id 15803646  </td>  <td>  Venansault--Vestack-MAQUETTE-PROD V2.rvt : Structural Framing : M_WF Metal Stud : Metal Stud 28x48 - Mark 3222 : id 4691548  </td>  </tr>\n",
              "<tr>  <td>  14  </td>  <td>  Pipe Fittings : Coude Multicouche Generique 90 : Coude Multicouche Generique 90 : id 15803646  </td>  <td>  Venansault--Vestack-MAQUETTE-PROD V2.rvt : Structural Framing : M_WF Metal Plate : Metal Plate 28x48 - Mark 3219 : id 4691550  </td>  </tr>\n",
              "<tr>  <td>  15  </td>  <td>  Pipes : Pipe Types : PER : id 15709583  </td>  <td>  Venansault--Vestack-MAQUETTE-PROD V2.rvt : Structural Framing : M_WF Rim-Bridging Joist : LMBR 75x200 : id 4989445  </td>  </tr>\n",
              "<tr>  <td>  16  </td>  <td>  Pipes : Pipe Types : PER : id 15709583  </td>  <td>  Venansault--Vestack-MAQUETTE-PROD V2.rvt : Structural Framing : M_WF Rim-Bridging Joist : LMBR 63x175 : id 4998438  </td>  </tr>\n",
              "<tr>  <td>  17  </td>  <td>  Pipes : Pipe Types : PVC Batiment Norme EN 1329-1 : id 15902833  </td>  <td>  Venansault--Vestack-MAQUETTE-PROD V2.rvt : Structural Framing : M_WF Joist : LMBR 63x175 : id 5031982  </td>  </tr>\n",
              "<tr>  <td>  18  </td>  <td>  Pipes : Pipe Types : PVC Batiment Norme EN 1329-1 : id 15902833  </td>  <td>  Venansault--Vestack-MAQUETTE-PROD V2.rvt : Structural Framing : M_WF Rim-Bridging Joist : LMBR 63x175 : id 5032020  </td>  </tr>\n",
              "</table>\n",
              "<p><b>  End of Interference Report  </b>\n",
              "</html>\n"
            ],
            "text/plain": [
              "<IPython.core.display.HTML object>"
            ]
          },
          "metadata": {},
          "execution_count": 3
        }
      ]
    },
    {
      "cell_type": "code",
      "source": [
        "from bs4 import BeautifulSoup"
      ],
      "metadata": {
        "id": "HHStEO58FAzf"
      },
      "execution_count": 4,
      "outputs": []
    },
    {
      "cell_type": "code",
      "source": [
        "with open(\"/drive/My Drive/Colab Notebooks/Clashs entre plomberie et ossature.html\") as fp:\n",
        "    soup = BeautifulSoup(fp, \"html.parser\")"
      ],
      "metadata": {
        "id": "0IBBosTGFBRf"
      },
      "execution_count": 5,
      "outputs": []
    },
    {
      "cell_type": "code",
      "source": [
        "import re\n",
        "soup2=soup.find_all(\"td\")\n",
        "clashs = []\n",
        "i=0\n",
        "for elem in soup2 :\n",
        "  if i>=3 :\n",
        "    #s = \"abc123AUG|GAC|UGAasdfg789\"\n",
        "    #print(type(elem))\n",
        "    clashs.append(str(elem))\n",
        "  i+=1\n",
        "clashs"
      ],
      "metadata": {
        "colab": {
          "base_uri": "https://localhost:8080/"
        },
        "id": "B2fCuWACFrT5",
        "outputId": "e4e51e6a-cd38-45ab-e06c-fdcba0517f15"
      },
      "execution_count": 6,
      "outputs": [
        {
          "output_type": "execute_result",
          "data": {
            "text/plain": [
              "['<td>  1  </td>',\n",
              " '<td>  Pipes : Pipe Types : Cuivre Frigo Norme EN 12735-1 : id 15581153  </td>',\n",
              " '<td>  Venansault--Vestack-MAQUETTE-PROD V2.rvt : Structural Framing : M_WF Bridging : LMBR 45x145 - Mark 1015 : id 4157933  </td>',\n",
              " '<td>  2  </td>',\n",
              " '<td>  Pipes : Pipe Types : Cuivre Frigo Norme EN 12735-1 : id 15581514  </td>',\n",
              " '<td>  Venansault--Vestack-MAQUETTE-PROD V2.rvt : Structural Framing : M_WF Bridging : LMBR 45x145 - Mark 1015 : id 4157933  </td>',\n",
              " '<td>  3  </td>',\n",
              " '<td>  Pipes : Pipe Types : PVC Sanitaire EN 1329-1 : id 16088130  </td>',\n",
              " '<td>  Venansault--Vestack-MAQUETTE-PROD V2.rvt : Structural Framing : M_WF Joist : LMBR 75x200 - Mark 2487 : id 4416185  </td>',\n",
              " '<td>  4  </td>',\n",
              " '<td>  Pipes : Pipe Types : PER : id 15954799  </td>',\n",
              " '<td>  Venansault--Vestack-MAQUETTE-PROD V2.rvt : Structural Framing : M_WF Joist : LMBR 75x200 - Mark 2499 : id 4416209  </td>',\n",
              " '<td>  5  </td>',\n",
              " '<td>  Pipes : Pipe Types : PVC Sanitaire EN 1329-1 : id 16088130  </td>',\n",
              " '<td>  Venansault--Vestack-MAQUETTE-PROD V2.rvt : Structural Framing : M_WF Joist : LMBR 38x38 - Mark 4110 : id 4629796  </td>',\n",
              " '<td>  6  </td>',\n",
              " '<td>  Pipes : Pipe Types : PER : id 15954799  </td>',\n",
              " '<td>  Venansault--Vestack-MAQUETTE-PROD V2.rvt : Structural Framing : M_WF Joist : LMBR 38x38 - Mark 4159 : id 4629894  </td>',\n",
              " '<td>  7  </td>',\n",
              " '<td>  Pipe Fittings : Coude Multicouche Generique 90 : Coude Multicouche Generique 90 : id 15880749  </td>',\n",
              " '<td>  Venansault--Vestack-MAQUETTE-PROD V2.rvt : Structural Framing : M_WF Metal Plate : Metal Plate 28x48 - Mark 3201 : id 4691384  </td>',\n",
              " '<td>  8  </td>',\n",
              " '<td>  Pipes : Pipe Types : PER : id 15880772  </td>',\n",
              " '<td>  Venansault--Vestack-MAQUETTE-PROD V2.rvt : Structural Framing : M_WF Metal Stud : Metal Stud 56x48 - Mark 3205 : id 4691391  </td>',\n",
              " '<td>  9  </td>',\n",
              " '<td>  Pipe Fittings : Coude Multicouche Generique 90 : Coude Multicouche Generique 90 : id 15987800  </td>',\n",
              " '<td>  Venansault--Vestack-MAQUETTE-PROD V2.rvt : Structural Framing : M_WF Metal Stud : Metal Stud 56x48 - Mark 3205 : id 4691391  </td>',\n",
              " '<td>  10  </td>',\n",
              " '<td>  Pipe Fittings : Coude Multicouche Generique 90 : Coude Multicouche Generique 90 : id 16011834  </td>',\n",
              " '<td>  Venansault--Vestack-MAQUETTE-PROD V2.rvt : Structural Framing : M_WF Metal Stud : Metal Stud 56x48 - Mark 3205 : id 4691391  </td>',\n",
              " '<td>  11  </td>',\n",
              " '<td>  Pipes : Pipe Types : PER : id 15760321  </td>',\n",
              " '<td>  Venansault--Vestack-MAQUETTE-PROD V2.rvt : Structural Framing : M_WF Metal Stud : Metal Stud 28x48 - Mark 3222 : id 4691548  </td>',\n",
              " '<td>  12  </td>',\n",
              " '<td>  Pipe Fittings : Coude Multicouche Generique 90 : Coude Multicouche Generique 90 : id 15803554  </td>',\n",
              " '<td>  Venansault--Vestack-MAQUETTE-PROD V2.rvt : Structural Framing : M_WF Metal Stud : Metal Stud 28x48 - Mark 3222 : id 4691548  </td>',\n",
              " '<td>  13  </td>',\n",
              " '<td>  Pipe Fittings : Coude Multicouche Generique 90 : Coude Multicouche Generique 90 : id 15803646  </td>',\n",
              " '<td>  Venansault--Vestack-MAQUETTE-PROD V2.rvt : Structural Framing : M_WF Metal Stud : Metal Stud 28x48 - Mark 3222 : id 4691548  </td>',\n",
              " '<td>  14  </td>',\n",
              " '<td>  Pipe Fittings : Coude Multicouche Generique 90 : Coude Multicouche Generique 90 : id 15803646  </td>',\n",
              " '<td>  Venansault--Vestack-MAQUETTE-PROD V2.rvt : Structural Framing : M_WF Metal Plate : Metal Plate 28x48 - Mark 3219 : id 4691550  </td>',\n",
              " '<td>  15  </td>',\n",
              " '<td>  Pipes : Pipe Types : PER : id 15709583  </td>',\n",
              " '<td>  Venansault--Vestack-MAQUETTE-PROD V2.rvt : Structural Framing : M_WF Rim-Bridging Joist : LMBR 75x200 : id 4989445  </td>',\n",
              " '<td>  16  </td>',\n",
              " '<td>  Pipes : Pipe Types : PER : id 15709583  </td>',\n",
              " '<td>  Venansault--Vestack-MAQUETTE-PROD V2.rvt : Structural Framing : M_WF Rim-Bridging Joist : LMBR 63x175 : id 4998438  </td>',\n",
              " '<td>  17  </td>',\n",
              " '<td>  Pipes : Pipe Types : PVC Batiment Norme EN 1329-1 : id 15902833  </td>',\n",
              " '<td>  Venansault--Vestack-MAQUETTE-PROD V2.rvt : Structural Framing : M_WF Joist : LMBR 63x175 : id 5031982  </td>',\n",
              " '<td>  18  </td>',\n",
              " '<td>  Pipes : Pipe Types : PVC Batiment Norme EN 1329-1 : id 15902833  </td>',\n",
              " '<td>  Venansault--Vestack-MAQUETTE-PROD V2.rvt : Structural Framing : M_WF Rim-Bridging Joist : LMBR 63x175 : id 5032020  </td>']"
            ]
          },
          "metadata": {},
          "execution_count": 6
        }
      ]
    },
    {
      "cell_type": "code",
      "source": [
        "table = []\n",
        "i=0\n",
        "for elem in clashs :\n",
        "  clashs_mod = elem.split('<td>')\n",
        "  i+=1\n",
        "  clash_final=clashs_mod[1].split('</td>')\n",
        "  table.append(clash_final[0])\n",
        "j=1\n",
        "table2,table3,table4= [],[],[]\n",
        "for elem in table :\n",
        "  #table2.append(j)\n",
        "  if j%3 != 0 :\n",
        "    clash_final2=table[j].split(': id')\n",
        "    table2.append(clash_final2)\n",
        "  j+=1\n",
        "\n",
        "k=1\n",
        "for elem in table2 :\n",
        "  for elem2 in elem :\n",
        "    table3.append(elem2)\n",
        "    if k%4 ==0:\n",
        "      table4.append(table3)\n",
        "      table3=[]\n",
        "    k+=1\n",
        "table4"
      ],
      "metadata": {
        "colab": {
          "base_uri": "https://localhost:8080/"
        },
        "id": "-5LoAilRsQVI",
        "outputId": "9e97eb0e-d095-44f9-bdda-a74b0f399412"
      },
      "execution_count": 18,
      "outputs": [
        {
          "output_type": "execute_result",
          "data": {
            "text/plain": [
              "[['  Pipes : Pipe Types : Cuivre Frigo Norme EN 12735-1 ',\n",
              "  ' 15581153  ',\n",
              "  '  Venansault--Vestack-MAQUETTE-PROD V2.rvt : Structural Framing : M_WF Bridging : LMBR 45x145 - Mark 1015 ',\n",
              "  ' 4157933  '],\n",
              " ['  Pipes : Pipe Types : Cuivre Frigo Norme EN 12735-1 ',\n",
              "  ' 15581514  ',\n",
              "  '  Venansault--Vestack-MAQUETTE-PROD V2.rvt : Structural Framing : M_WF Bridging : LMBR 45x145 - Mark 1015 ',\n",
              "  ' 4157933  '],\n",
              " ['  Pipes : Pipe Types : PVC Sanitaire EN 1329-1 ',\n",
              "  ' 16088130  ',\n",
              "  '  Venansault--Vestack-MAQUETTE-PROD V2.rvt : Structural Framing : M_WF Joist : LMBR 75x200 - Mark 2487 ',\n",
              "  ' 4416185  '],\n",
              " ['  Pipes : Pipe Types : PER ',\n",
              "  ' 15954799  ',\n",
              "  '  Venansault--Vestack-MAQUETTE-PROD V2.rvt : Structural Framing : M_WF Joist : LMBR 75x200 - Mark 2499 ',\n",
              "  ' 4416209  '],\n",
              " ['  Pipes : Pipe Types : PVC Sanitaire EN 1329-1 ',\n",
              "  ' 16088130  ',\n",
              "  '  Venansault--Vestack-MAQUETTE-PROD V2.rvt : Structural Framing : M_WF Joist : LMBR 38x38 - Mark 4110 ',\n",
              "  ' 4629796  '],\n",
              " ['  Pipes : Pipe Types : PER ',\n",
              "  ' 15954799  ',\n",
              "  '  Venansault--Vestack-MAQUETTE-PROD V2.rvt : Structural Framing : M_WF Joist : LMBR 38x38 - Mark 4159 ',\n",
              "  ' 4629894  '],\n",
              " ['  Pipe Fittings : Coude Multicouche Generique 90 : Coude Multicouche Generique 90 ',\n",
              "  ' 15880749  ',\n",
              "  '  Venansault--Vestack-MAQUETTE-PROD V2.rvt : Structural Framing : M_WF Metal Plate : Metal Plate 28x48 - Mark 3201 ',\n",
              "  ' 4691384  '],\n",
              " ['  Pipes : Pipe Types : PER ',\n",
              "  ' 15880772  ',\n",
              "  '  Venansault--Vestack-MAQUETTE-PROD V2.rvt : Structural Framing : M_WF Metal Stud : Metal Stud 56x48 - Mark 3205 ',\n",
              "  ' 4691391  '],\n",
              " ['  Pipe Fittings : Coude Multicouche Generique 90 : Coude Multicouche Generique 90 ',\n",
              "  ' 15987800  ',\n",
              "  '  Venansault--Vestack-MAQUETTE-PROD V2.rvt : Structural Framing : M_WF Metal Stud : Metal Stud 56x48 - Mark 3205 ',\n",
              "  ' 4691391  '],\n",
              " ['  Pipe Fittings : Coude Multicouche Generique 90 : Coude Multicouche Generique 90 ',\n",
              "  ' 16011834  ',\n",
              "  '  Venansault--Vestack-MAQUETTE-PROD V2.rvt : Structural Framing : M_WF Metal Stud : Metal Stud 56x48 - Mark 3205 ',\n",
              "  ' 4691391  '],\n",
              " ['  Pipes : Pipe Types : PER ',\n",
              "  ' 15760321  ',\n",
              "  '  Venansault--Vestack-MAQUETTE-PROD V2.rvt : Structural Framing : M_WF Metal Stud : Metal Stud 28x48 - Mark 3222 ',\n",
              "  ' 4691548  '],\n",
              " ['  Pipe Fittings : Coude Multicouche Generique 90 : Coude Multicouche Generique 90 ',\n",
              "  ' 15803554  ',\n",
              "  '  Venansault--Vestack-MAQUETTE-PROD V2.rvt : Structural Framing : M_WF Metal Stud : Metal Stud 28x48 - Mark 3222 ',\n",
              "  ' 4691548  '],\n",
              " ['  Pipe Fittings : Coude Multicouche Generique 90 : Coude Multicouche Generique 90 ',\n",
              "  ' 15803646  ',\n",
              "  '  Venansault--Vestack-MAQUETTE-PROD V2.rvt : Structural Framing : M_WF Metal Stud : Metal Stud 28x48 - Mark 3222 ',\n",
              "  ' 4691548  '],\n",
              " ['  Pipe Fittings : Coude Multicouche Generique 90 : Coude Multicouche Generique 90 ',\n",
              "  ' 15803646  ',\n",
              "  '  Venansault--Vestack-MAQUETTE-PROD V2.rvt : Structural Framing : M_WF Metal Plate : Metal Plate 28x48 - Mark 3219 ',\n",
              "  ' 4691550  '],\n",
              " ['  Pipes : Pipe Types : PER ',\n",
              "  ' 15709583  ',\n",
              "  '  Venansault--Vestack-MAQUETTE-PROD V2.rvt : Structural Framing : M_WF Rim-Bridging Joist : LMBR 75x200 ',\n",
              "  ' 4989445  '],\n",
              " ['  Pipes : Pipe Types : PER ',\n",
              "  ' 15709583  ',\n",
              "  '  Venansault--Vestack-MAQUETTE-PROD V2.rvt : Structural Framing : M_WF Rim-Bridging Joist : LMBR 63x175 ',\n",
              "  ' 4998438  '],\n",
              " ['  Pipes : Pipe Types : PVC Batiment Norme EN 1329-1 ',\n",
              "  ' 15902833  ',\n",
              "  '  Venansault--Vestack-MAQUETTE-PROD V2.rvt : Structural Framing : M_WF Joist : LMBR 63x175 ',\n",
              "  ' 5031982  '],\n",
              " ['  Pipes : Pipe Types : PVC Batiment Norme EN 1329-1 ',\n",
              "  ' 15902833  ',\n",
              "  '  Venansault--Vestack-MAQUETTE-PROD V2.rvt : Structural Framing : M_WF Rim-Bridging Joist : LMBR 63x175 ',\n",
              "  ' 5032020  ']]"
            ]
          },
          "metadata": {},
          "execution_count": 18
        }
      ]
    },
    {
      "cell_type": "code",
      "source": [
        "import pandas as pd\n",
        "import math as mt\n",
        "df = pd.DataFrame(data = table4, columns = ['ElementX','IdX','ElementY','IdY'])\n",
        "df"
      ],
      "metadata": {
        "colab": {
          "base_uri": "https://localhost:8080/",
          "height": 614
        },
        "id": "4Z2NAZ-Utpa0",
        "outputId": "28392962-fcec-488d-84b7-5e2f50df4c76"
      },
      "execution_count": 19,
      "outputs": [
        {
          "output_type": "execute_result",
          "data": {
            "text/html": [
              "\n",
              "  <div id=\"df-1682548e-8984-45ee-b4ed-6091f064544f\">\n",
              "    <div class=\"colab-df-container\">\n",
              "      <div>\n",
              "<style scoped>\n",
              "    .dataframe tbody tr th:only-of-type {\n",
              "        vertical-align: middle;\n",
              "    }\n",
              "\n",
              "    .dataframe tbody tr th {\n",
              "        vertical-align: top;\n",
              "    }\n",
              "\n",
              "    .dataframe thead th {\n",
              "        text-align: right;\n",
              "    }\n",
              "</style>\n",
              "<table border=\"1\" class=\"dataframe\">\n",
              "  <thead>\n",
              "    <tr style=\"text-align: right;\">\n",
              "      <th></th>\n",
              "      <th>ElementX</th>\n",
              "      <th>IdX</th>\n",
              "      <th>ElementY</th>\n",
              "      <th>IdY</th>\n",
              "    </tr>\n",
              "  </thead>\n",
              "  <tbody>\n",
              "    <tr>\n",
              "      <th>0</th>\n",
              "      <td>Pipes : Pipe Types : Cuivre Frigo Norme EN 1...</td>\n",
              "      <td>15581153</td>\n",
              "      <td>Venansault--Vestack-MAQUETTE-PROD V2.rvt : S...</td>\n",
              "      <td>4157933</td>\n",
              "    </tr>\n",
              "    <tr>\n",
              "      <th>1</th>\n",
              "      <td>Pipes : Pipe Types : Cuivre Frigo Norme EN 1...</td>\n",
              "      <td>15581514</td>\n",
              "      <td>Venansault--Vestack-MAQUETTE-PROD V2.rvt : S...</td>\n",
              "      <td>4157933</td>\n",
              "    </tr>\n",
              "    <tr>\n",
              "      <th>2</th>\n",
              "      <td>Pipes : Pipe Types : PVC Sanitaire EN 1329-1</td>\n",
              "      <td>16088130</td>\n",
              "      <td>Venansault--Vestack-MAQUETTE-PROD V2.rvt : S...</td>\n",
              "      <td>4416185</td>\n",
              "    </tr>\n",
              "    <tr>\n",
              "      <th>3</th>\n",
              "      <td>Pipes : Pipe Types : PER</td>\n",
              "      <td>15954799</td>\n",
              "      <td>Venansault--Vestack-MAQUETTE-PROD V2.rvt : S...</td>\n",
              "      <td>4416209</td>\n",
              "    </tr>\n",
              "    <tr>\n",
              "      <th>4</th>\n",
              "      <td>Pipes : Pipe Types : PVC Sanitaire EN 1329-1</td>\n",
              "      <td>16088130</td>\n",
              "      <td>Venansault--Vestack-MAQUETTE-PROD V2.rvt : S...</td>\n",
              "      <td>4629796</td>\n",
              "    </tr>\n",
              "    <tr>\n",
              "      <th>5</th>\n",
              "      <td>Pipes : Pipe Types : PER</td>\n",
              "      <td>15954799</td>\n",
              "      <td>Venansault--Vestack-MAQUETTE-PROD V2.rvt : S...</td>\n",
              "      <td>4629894</td>\n",
              "    </tr>\n",
              "    <tr>\n",
              "      <th>6</th>\n",
              "      <td>Pipe Fittings : Coude Multicouche Generique ...</td>\n",
              "      <td>15880749</td>\n",
              "      <td>Venansault--Vestack-MAQUETTE-PROD V2.rvt : S...</td>\n",
              "      <td>4691384</td>\n",
              "    </tr>\n",
              "    <tr>\n",
              "      <th>7</th>\n",
              "      <td>Pipes : Pipe Types : PER</td>\n",
              "      <td>15880772</td>\n",
              "      <td>Venansault--Vestack-MAQUETTE-PROD V2.rvt : S...</td>\n",
              "      <td>4691391</td>\n",
              "    </tr>\n",
              "    <tr>\n",
              "      <th>8</th>\n",
              "      <td>Pipe Fittings : Coude Multicouche Generique ...</td>\n",
              "      <td>15987800</td>\n",
              "      <td>Venansault--Vestack-MAQUETTE-PROD V2.rvt : S...</td>\n",
              "      <td>4691391</td>\n",
              "    </tr>\n",
              "    <tr>\n",
              "      <th>9</th>\n",
              "      <td>Pipe Fittings : Coude Multicouche Generique ...</td>\n",
              "      <td>16011834</td>\n",
              "      <td>Venansault--Vestack-MAQUETTE-PROD V2.rvt : S...</td>\n",
              "      <td>4691391</td>\n",
              "    </tr>\n",
              "    <tr>\n",
              "      <th>10</th>\n",
              "      <td>Pipes : Pipe Types : PER</td>\n",
              "      <td>15760321</td>\n",
              "      <td>Venansault--Vestack-MAQUETTE-PROD V2.rvt : S...</td>\n",
              "      <td>4691548</td>\n",
              "    </tr>\n",
              "    <tr>\n",
              "      <th>11</th>\n",
              "      <td>Pipe Fittings : Coude Multicouche Generique ...</td>\n",
              "      <td>15803554</td>\n",
              "      <td>Venansault--Vestack-MAQUETTE-PROD V2.rvt : S...</td>\n",
              "      <td>4691548</td>\n",
              "    </tr>\n",
              "    <tr>\n",
              "      <th>12</th>\n",
              "      <td>Pipe Fittings : Coude Multicouche Generique ...</td>\n",
              "      <td>15803646</td>\n",
              "      <td>Venansault--Vestack-MAQUETTE-PROD V2.rvt : S...</td>\n",
              "      <td>4691548</td>\n",
              "    </tr>\n",
              "    <tr>\n",
              "      <th>13</th>\n",
              "      <td>Pipe Fittings : Coude Multicouche Generique ...</td>\n",
              "      <td>15803646</td>\n",
              "      <td>Venansault--Vestack-MAQUETTE-PROD V2.rvt : S...</td>\n",
              "      <td>4691550</td>\n",
              "    </tr>\n",
              "    <tr>\n",
              "      <th>14</th>\n",
              "      <td>Pipes : Pipe Types : PER</td>\n",
              "      <td>15709583</td>\n",
              "      <td>Venansault--Vestack-MAQUETTE-PROD V2.rvt : S...</td>\n",
              "      <td>4989445</td>\n",
              "    </tr>\n",
              "    <tr>\n",
              "      <th>15</th>\n",
              "      <td>Pipes : Pipe Types : PER</td>\n",
              "      <td>15709583</td>\n",
              "      <td>Venansault--Vestack-MAQUETTE-PROD V2.rvt : S...</td>\n",
              "      <td>4998438</td>\n",
              "    </tr>\n",
              "    <tr>\n",
              "      <th>16</th>\n",
              "      <td>Pipes : Pipe Types : PVC Batiment Norme EN 1...</td>\n",
              "      <td>15902833</td>\n",
              "      <td>Venansault--Vestack-MAQUETTE-PROD V2.rvt : S...</td>\n",
              "      <td>5031982</td>\n",
              "    </tr>\n",
              "    <tr>\n",
              "      <th>17</th>\n",
              "      <td>Pipes : Pipe Types : PVC Batiment Norme EN 1...</td>\n",
              "      <td>15902833</td>\n",
              "      <td>Venansault--Vestack-MAQUETTE-PROD V2.rvt : S...</td>\n",
              "      <td>5032020</td>\n",
              "    </tr>\n",
              "  </tbody>\n",
              "</table>\n",
              "</div>\n",
              "      <button class=\"colab-df-convert\" onclick=\"convertToInteractive('df-1682548e-8984-45ee-b4ed-6091f064544f')\"\n",
              "              title=\"Convert this dataframe to an interactive table.\"\n",
              "              style=\"display:none;\">\n",
              "        \n",
              "  <svg xmlns=\"http://www.w3.org/2000/svg\" height=\"24px\"viewBox=\"0 0 24 24\"\n",
              "       width=\"24px\">\n",
              "    <path d=\"M0 0h24v24H0V0z\" fill=\"none\"/>\n",
              "    <path d=\"M18.56 5.44l.94 2.06.94-2.06 2.06-.94-2.06-.94-.94-2.06-.94 2.06-2.06.94zm-11 1L8.5 8.5l.94-2.06 2.06-.94-2.06-.94L8.5 2.5l-.94 2.06-2.06.94zm10 10l.94 2.06.94-2.06 2.06-.94-2.06-.94-.94-2.06-.94 2.06-2.06.94z\"/><path d=\"M17.41 7.96l-1.37-1.37c-.4-.4-.92-.59-1.43-.59-.52 0-1.04.2-1.43.59L10.3 9.45l-7.72 7.72c-.78.78-.78 2.05 0 2.83L4 21.41c.39.39.9.59 1.41.59.51 0 1.02-.2 1.41-.59l7.78-7.78 2.81-2.81c.8-.78.8-2.07 0-2.86zM5.41 20L4 18.59l7.72-7.72 1.47 1.35L5.41 20z\"/>\n",
              "  </svg>\n",
              "      </button>\n",
              "      \n",
              "  <style>\n",
              "    .colab-df-container {\n",
              "      display:flex;\n",
              "      flex-wrap:wrap;\n",
              "      gap: 12px;\n",
              "    }\n",
              "\n",
              "    .colab-df-convert {\n",
              "      background-color: #E8F0FE;\n",
              "      border: none;\n",
              "      border-radius: 50%;\n",
              "      cursor: pointer;\n",
              "      display: none;\n",
              "      fill: #1967D2;\n",
              "      height: 32px;\n",
              "      padding: 0 0 0 0;\n",
              "      width: 32px;\n",
              "    }\n",
              "\n",
              "    .colab-df-convert:hover {\n",
              "      background-color: #E2EBFA;\n",
              "      box-shadow: 0px 1px 2px rgba(60, 64, 67, 0.3), 0px 1px 3px 1px rgba(60, 64, 67, 0.15);\n",
              "      fill: #174EA6;\n",
              "    }\n",
              "\n",
              "    [theme=dark] .colab-df-convert {\n",
              "      background-color: #3B4455;\n",
              "      fill: #D2E3FC;\n",
              "    }\n",
              "\n",
              "    [theme=dark] .colab-df-convert:hover {\n",
              "      background-color: #434B5C;\n",
              "      box-shadow: 0px 1px 3px 1px rgba(0, 0, 0, 0.15);\n",
              "      filter: drop-shadow(0px 1px 2px rgba(0, 0, 0, 0.3));\n",
              "      fill: #FFFFFF;\n",
              "    }\n",
              "  </style>\n",
              "\n",
              "      <script>\n",
              "        const buttonEl =\n",
              "          document.querySelector('#df-1682548e-8984-45ee-b4ed-6091f064544f button.colab-df-convert');\n",
              "        buttonEl.style.display =\n",
              "          google.colab.kernel.accessAllowed ? 'block' : 'none';\n",
              "\n",
              "        async function convertToInteractive(key) {\n",
              "          const element = document.querySelector('#df-1682548e-8984-45ee-b4ed-6091f064544f');\n",
              "          const dataTable =\n",
              "            await google.colab.kernel.invokeFunction('convertToInteractive',\n",
              "                                                     [key], {});\n",
              "          if (!dataTable) return;\n",
              "\n",
              "          const docLinkHtml = 'Like what you see? Visit the ' +\n",
              "            '<a target=\"_blank\" href=https://colab.research.google.com/notebooks/data_table.ipynb>data table notebook</a>'\n",
              "            + ' to learn more about interactive tables.';\n",
              "          element.innerHTML = '';\n",
              "          dataTable['output_type'] = 'display_data';\n",
              "          await google.colab.output.renderOutput(dataTable, element);\n",
              "          const docLink = document.createElement('div');\n",
              "          docLink.innerHTML = docLinkHtml;\n",
              "          element.appendChild(docLink);\n",
              "        }\n",
              "      </script>\n",
              "    </div>\n",
              "  </div>\n",
              "  "
            ],
            "text/plain": [
              "                                             ElementX  ...         IdY\n",
              "0     Pipes : Pipe Types : Cuivre Frigo Norme EN 1...  ...   4157933  \n",
              "1     Pipes : Pipe Types : Cuivre Frigo Norme EN 1...  ...   4157933  \n",
              "2       Pipes : Pipe Types : PVC Sanitaire EN 1329-1   ...   4416185  \n",
              "3                           Pipes : Pipe Types : PER   ...   4416209  \n",
              "4       Pipes : Pipe Types : PVC Sanitaire EN 1329-1   ...   4629796  \n",
              "5                           Pipes : Pipe Types : PER   ...   4629894  \n",
              "6     Pipe Fittings : Coude Multicouche Generique ...  ...   4691384  \n",
              "7                           Pipes : Pipe Types : PER   ...   4691391  \n",
              "8     Pipe Fittings : Coude Multicouche Generique ...  ...   4691391  \n",
              "9     Pipe Fittings : Coude Multicouche Generique ...  ...   4691391  \n",
              "10                          Pipes : Pipe Types : PER   ...   4691548  \n",
              "11    Pipe Fittings : Coude Multicouche Generique ...  ...   4691548  \n",
              "12    Pipe Fittings : Coude Multicouche Generique ...  ...   4691548  \n",
              "13    Pipe Fittings : Coude Multicouche Generique ...  ...   4691550  \n",
              "14                          Pipes : Pipe Types : PER   ...   4989445  \n",
              "15                          Pipes : Pipe Types : PER   ...   4998438  \n",
              "16    Pipes : Pipe Types : PVC Batiment Norme EN 1...  ...   5031982  \n",
              "17    Pipes : Pipe Types : PVC Batiment Norme EN 1...  ...   5032020  \n",
              "\n",
              "[18 rows x 4 columns]"
            ]
          },
          "metadata": {},
          "execution_count": 19
        }
      ]
    },
    {
      "cell_type": "code",
      "source": [
        "import pandas as pd\n",
        "writer = pd.ExcelWriter('file.xlsx')\n",
        "df.to_excel(writer, index = False)\n",
        "writer.save()\n",
        "files.download('file.xlsx')"
      ],
      "metadata": {
        "id": "meWMDOR22brF",
        "colab": {
          "base_uri": "https://localhost:8080/",
          "height": 17
        },
        "outputId": "f9df6830-2e18-4abe-9f11-a80c05db9125"
      },
      "execution_count": 20,
      "outputs": [
        {
          "output_type": "display_data",
          "data": {
            "application/javascript": [
              "\n",
              "    async function download(id, filename, size) {\n",
              "      if (!google.colab.kernel.accessAllowed) {\n",
              "        return;\n",
              "      }\n",
              "      const div = document.createElement('div');\n",
              "      const label = document.createElement('label');\n",
              "      label.textContent = `Downloading \"${filename}\": `;\n",
              "      div.appendChild(label);\n",
              "      const progress = document.createElement('progress');\n",
              "      progress.max = size;\n",
              "      div.appendChild(progress);\n",
              "      document.body.appendChild(div);\n",
              "\n",
              "      const buffers = [];\n",
              "      let downloaded = 0;\n",
              "\n",
              "      const channel = await google.colab.kernel.comms.open(id);\n",
              "      // Send a message to notify the kernel that we're ready.\n",
              "      channel.send({})\n",
              "\n",
              "      for await (const message of channel.messages) {\n",
              "        // Send a message to notify the kernel that we're ready.\n",
              "        channel.send({})\n",
              "        if (message.buffers) {\n",
              "          for (const buffer of message.buffers) {\n",
              "            buffers.push(buffer);\n",
              "            downloaded += buffer.byteLength;\n",
              "            progress.value = downloaded;\n",
              "          }\n",
              "        }\n",
              "      }\n",
              "      const blob = new Blob(buffers, {type: 'application/binary'});\n",
              "      const a = document.createElement('a');\n",
              "      a.href = window.URL.createObjectURL(blob);\n",
              "      a.download = filename;\n",
              "      div.appendChild(a);\n",
              "      a.click();\n",
              "      div.remove();\n",
              "    }\n",
              "  "
            ],
            "text/plain": [
              "<IPython.core.display.Javascript object>"
            ]
          },
          "metadata": {}
        },
        {
          "output_type": "display_data",
          "data": {
            "application/javascript": [
              "download(\"download_b4b38907-559c-4893-aafb-d420f99e11b9\", \"file.xlsx\", 5805)"
            ],
            "text/plain": [
              "<IPython.core.display.Javascript object>"
            ]
          },
          "metadata": {}
        }
      ]
    },
    {
      "cell_type": "code",
      "source": [
        ""
      ],
      "metadata": {
        "id": "0Qnf2V3_psk-"
      },
      "execution_count": null,
      "outputs": []
    }
  ]
}